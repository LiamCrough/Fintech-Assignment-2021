{
 "cells": [
  {
   "cell_type": "code",
   "execution_count": null,
   "metadata": {},
   "outputs": [],
   "source": [
    "def risk_weights():\n",
    "    risk_returns = all_returns\n",
    "    weights_risk_averse = [0.5,0.3,0.05,0.15]\n",
    "    weights_risk_neutral = [0.2,0.5,0.1,0.2,0]\n",
    "    weights_risk_high = [0.05,0.5,0.30,0.15,0,0]\n",
    "    risk_returns['Risk Averse'] = risk_returns.dot(weights_risk_averse)\n",
    "    risk_returns['Risk Neutral'] = risk_returns.dot(weights_risk_neutral)\n",
    "    risk_returns['Risk High'] = risk_returns.dot(weights_risk_high)\n",
    "    risk_returns = risk_returns[['Risk Averse', 'Risk Neutral', 'Risk High']]\n",
    "    return risk_returns\n",
    "\n",
    "def risk_returns_2020():\n",
    "    daily_return_2020 = risk_returns.loc['2019-07-30':'2020-07-30']\n",
    "    daily_return_2020 = daily_return_2020[['Risk Averse', 'Risk Neutral', 'Risk High']]\n",
    "    des_2020 = daily_return_2020.describe().apply(lambda s: s.apply('{0:.4f}'.format)).style.set_caption(\"2020 Returns by Risk Strategy\").set_option('display.float_format', lambda x: '%.5f' % x)\n",
    "    return des_2020\n",
    "\n",
    "def risk_returns_2019():\n",
    "    daily_return_2019 = risk_returns.loc['2018-07-30':'2019-07-30']\n",
    "    daily_return_2019 = daily_return_2019[['Risk Averse', 'Risk Neutral', 'Risk High']]\n",
    "    des_2019 = daily_return_2019.describe().apply(lambda s: s.apply('{0:.4f}'.format)).style.set_caption(\"2019 Returns by Risk Strategy\")\n",
    "    return des_2019\n",
    "\n",
    "def risk_returns_2018():\n",
    "    daily_return_2018 = risk_returns.loc['2017-07-30':'2018-07-30']\n",
    "    daily_return_2018 = daily_return_2019[['Risk Averse', 'Risk Neutral', 'Risk High']]\n",
    "    des_2018 = daily_return_2018.describe().apply(lambda s: s.apply('{0:.4f}'.format)).style.set_caption(\"2018 Returns by Risk Strategy\")\n",
    "    return des_2018\n",
    "\n"
   ]
  }
 ],
 "metadata": {
  "kernelspec": {
   "display_name": "Python 3",
   "language": "python",
   "name": "python3"
  },
  "language_info": {
   "codemirror_mode": {
    "name": "ipython",
    "version": 3
   },
   "file_extension": ".py",
   "mimetype": "text/x-python",
   "name": "python",
   "nbconvert_exporter": "python",
   "pygments_lexer": "ipython3",
   "version": "3.7.9"
  }
 },
 "nbformat": 4,
 "nbformat_minor": 4
}
