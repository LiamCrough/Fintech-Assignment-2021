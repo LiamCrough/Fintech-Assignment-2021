{
 "cells": [
  {
   "cell_type": "code",
   "execution_count": 17,
   "metadata": {},
   "outputs": [],
   "source": [
    "\n",
    "def daily_returns_averse():\n",
    "    all_returns_av = pd.concat([sandp_bonds_return, crypto_change, cmod_returns], axis=\"columns\", join=\"inner\").sort_index()\n",
    "    all_returns_av.columns = ['Bonds Change %', 'S&P 500 Change %', 'Crypto Change %', 'Commodity Change %']\n",
    "    risk_returns_av = all_returns_av\n",
    "    weights_risk_averse = [0.5,0.3,0.05,0.15]\n",
    "    risk_returns_av['Risk Averse'] = risk_returns_av.dot(weights_risk_averse)\n",
    "    averse_plot = risk_returns_av['Risk Averse'].hvplot.line(figsize=(30,15), title='Daily Returns for Risk Neutral Strategy \\n')  \n",
    "    return averse_plot\n",
    "    \n",
    "def daily_returns_neutral():\n",
    "    all_returns_ne = pd.concat([sandp_bonds_return, crypto_change, cmod_returns], axis=\"columns\", join=\"inner\").sort_index()\n",
    "    all_returns_ne.columns = ['Bonds Change %', 'S&P 500 Change %', 'Crypto Change %', 'Commodity Change %']\n",
    "    risk_returns_neutral = all_returns_ne\n",
    "    weights_risk_neutral = [0.2,0.5,0.1,0.2]\n",
    "    risk_returns_neutral['Risk Neutral'] = risk_returns_neutral.dot(weights_risk_neutral)\n",
    "    neutral_plot = risk_returns_neutral['Risk Neutral'].hvplot.line(figsize=(30,15), title='Daily Returns for Risk Neutral Strategy \\n')  \n",
    "    return neutral_plot\n",
    "    \n",
    "def daily_returns_high():\n",
    "    all_returns_hi = pd.concat([sandp_bonds_return, crypto_change, cmod_returns], axis=\"columns\", join=\"inner\").sort_index()\n",
    "    all_returns_hi.columns = ['Bonds Change %', 'S&P 500 Change %', 'Crypto Change %', 'Commodity Change %']\n",
    "    risk_returns_high = all_returns_hi\n",
    "    weights_risk_high = [0.05,0.5,0.30,0.15]\n",
    "    risk_returns_high['Risk High'] = risk_returns_high.dot(weights_risk_high)\n",
    "    high_plot = risk_returns_high['Risk High'].hvplot.line(figsize=(30,15), title='Daily Returns for Risk Neutral Strategy \\n')  \n",
    "    return high_plot\n",
    "    \n"
   ]
  }
 ],
 "metadata": {
  "kernelspec": {
   "display_name": "Python 3",
   "language": "python",
   "name": "python3"
  },
  "language_info": {
   "codemirror_mode": {
    "name": "ipython",
    "version": 3
   },
   "file_extension": ".py",
   "mimetype": "text/x-python",
   "name": "python",
   "nbconvert_exporter": "python",
   "pygments_lexer": "ipython3",
   "version": "3.7.9"
  }
 },
 "nbformat": 4,
 "nbformat_minor": 4
}
